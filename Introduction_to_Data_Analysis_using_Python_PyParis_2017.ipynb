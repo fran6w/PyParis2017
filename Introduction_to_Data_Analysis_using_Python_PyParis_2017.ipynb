{
 "cells": [
  {
   "cell_type": "code",
   "execution_count": null,
   "metadata": {
    "collapsed": false
   },
   "outputs": [],
   "source": [
    "# PyParis logo\n",
    "import matplotlib.pyplot as plt\n",
    "logo = plt.imread(\"PyParis.png\")\n",
    "plt.imshow(logo)\n",
    "plt.axis('off');"
   ]
  },
  {
   "cell_type": "markdown",
   "metadata": {},
   "source": [
    "# Introduction to Data Analysis using Python - PyParis 2017\n",
    "\n",
    "### Francis Wolinski - Yotta Conseil\n",
    "\n",
    "**Expertise & IT Audit - Data Science - Python**\n",
    "\n",
    "- twitter: https://twitter.com/@fran6wol\n",
    "- web: https://yotta-conseil.fr\n",
    "- github : https://github.com/fran6w/PyParis2017\n",
    "\n",
    "## 0. Tutorial objectives and materials\n",
    "\n",
    "### 0.1 Objectives\n",
    "- Exploring basic functionalities of Python Data Analysis Ecosystem: Numpy, Pandas, Matplotlib\n",
    "- Analysis two different datasets but conforming them so that the same analysis can be performed on both datasets\n",
    "- Providing cross-analysis between both datasets\n",
    "\n",
    "\n",
    "### 0.2 Materials\n",
    "\n",
    "**Python 3.5+** : numpy, pandas, matplotlib\n",
    "\n",
    "**Datasets** :\n",
    "- Names from *US Social Security* from 1880 to 2016 : https://www.ssa.gov/oact/babynames/limits.html (National data)\n",
    "    - 137 CSV files named *yobYYYY.txt*, without header\n",
    "    - Within each file: name, gender (F or M), births (int)\n",
    "    - No names when less that 5 occurences in a year\n",
    "- Names from *French Insee* from 1900 to 2015 : https://www.insee.fr/fr/statistiques/2540004 (Fichier France)\n",
    "    - 1 single TSV file: *nat2015.txt*, with header\n",
    "    - In the file: gender (1 or 2), name, year, births (float!)\n",
    "    - No names when less than 3 occurences in a year\n",
    "    - Rare names are labelled as *_PRENOMS_RARES*\n",
    "    - Years for rare names are labelled *XXXX*\n",
    "    \n",
    "**References**\n",
    "- Wes McKinney - Python for Data Analysis - O'Reilly (2013)\n",
    "- Jake VanderPlas - Python Data Science Handbook - O'Reilly (2016)"
   ]
  },
  {
   "cell_type": "code",
   "execution_count": null,
   "metadata": {
    "collapsed": false
   },
   "outputs": [],
   "source": [
    "# imports\n",
    "import numpy as np\n",
    "import pandas as pd\n",
    "import matplotlib.pyplot as plt\n",
    "\n",
    "import os\n",
    "\n",
    "# magic command to display graphics within the notebook\n",
    "%matplotlib inline\n",
    "\n",
    "# display options\n",
    "from pandas import set_option\n",
    "set_option(\"display.max_rows\", 16)\n",
    "set_option(\"precision\", 3)\n",
    "plt.style.use('seaborn-notebook')"
   ]
  },
  {
   "cell_type": "markdown",
   "metadata": {},
   "source": [
    "## 1. Loading Data in a DataFrame\n",
    "\n",
    "### 1.1 Loading US Data\n",
    "\n",
    "#### 1.1.1 Loading a single file\n",
    "\n",
    "We first load a single CSV file using Pandas' *read_csv()* function."
   ]
  },
  {
   "cell_type": "code",
   "execution_count": null,
   "metadata": {
    "collapsed": false
   },
   "outputs": [],
   "source": [
    "# loads US data from last year\n",
    "path = \"datasets/names/\"\n",
    "filename = \"yob2016.txt\"\n",
    "us2016 = pd.read_csv(os.path.join(path, filename),\n",
    "                           header=None,\n",
    "                           names=['name', 'gender', 'births'])\n",
    "us2016"
   ]
  },
  {
   "cell_type": "markdown",
   "metadata": {},
   "source": [
    "We obtain a Pandas DataFrame object which represents 2D data. The *info()* method provides the main characteritics of the DataFrame."
   ]
  },
  {
   "cell_type": "code",
   "execution_count": null,
   "metadata": {
    "collapsed": false
   },
   "outputs": [],
   "source": [
    "# characteristics of a DataFrame\n",
    "us2016.info()"
   ]
  },
  {
   "cell_type": "code",
   "execution_count": null,
   "metadata": {
    "collapsed": false
   },
   "outputs": [],
   "source": [
    "# access to the index\n",
    "us2016.index"
   ]
  },
  {
   "cell_type": "code",
   "execution_count": null,
   "metadata": {
    "collapsed": false
   },
   "outputs": [],
   "source": [
    "# acces to columns\n",
    "us2016.columns"
   ]
  },
  {
   "cell_type": "code",
   "execution_count": null,
   "metadata": {
    "collapsed": false
   },
   "outputs": [],
   "source": [
    "# acces to dimensions\n",
    "us2016.shape"
   ]
  },
  {
   "cell_type": "markdown",
   "metadata": {},
   "source": [
    "We can access to a specific column by using the *[]* operator and obtain a Pandas Series object which represents 1D data."
   ]
  },
  {
   "cell_type": "code",
   "execution_count": null,
   "metadata": {
    "collapsed": false
   },
   "outputs": [],
   "source": [
    "# access to a specific column\n",
    "us2016['name']  # us2016.name"
   ]
  },
  {
   "cell_type": "code",
   "execution_count": null,
   "metadata": {
    "collapsed": false
   },
   "outputs": [],
   "source": [
    "# number of US unique names\n",
    "us2016['name'].nunique()"
   ]
  },
  {
   "cell_type": "markdown",
   "metadata": {},
   "source": [
    "** Few operations on DataFrame: transposition, sorting and grouping **\n",
    "\n",
    "Transposition reverse rows and columns and switch index and column labels : *transpose()* or *T* method."
   ]
  },
  {
   "cell_type": "code",
   "execution_count": null,
   "metadata": {
    "collapsed": false
   },
   "outputs": [],
   "source": [
    "# transposition T or transpose()\n",
    "us2016.T"
   ]
  },
  {
   "cell_type": "markdown",
   "metadata": {},
   "source": [
    "It is possible to sort a DataFrame by one or more columns and specifying the ascending : *sort_values()* method."
   ]
  },
  {
   "cell_type": "code",
   "execution_count": null,
   "metadata": {
    "collapsed": false
   },
   "outputs": [],
   "source": [
    "# top 10 US names in 2016\n",
    "us2016.sort_values('births', ascending=False).head(10)"
   ]
  },
  {
   "cell_type": "markdown",
   "metadata": {},
   "source": [
    "DataFrame are provided with a powerful *groupby* method which splits it into chuncks - according to the values of one or more columns - and then apply a summarization function to each chunk and concatenates the whole in a new DataFrame.\n",
    "\n",
    "This illustrates the *split-apply-combine* strategy : *groupby()* then *sum()* methods."
   ]
  },
  {
   "cell_type": "code",
   "execution_count": null,
   "metadata": {
    "collapsed": false
   },
   "outputs": [],
   "source": [
    "# US female and male births of year 2016\n",
    "us2016.groupby('gender').sum()"
   ]
  },
  {
   "cell_type": "markdown",
   "metadata": {},
   "source": [
    "#### 1.1.2 Loading all files\n",
    "\n",
    "We load and merge all CSV files within the folder *names*. The year is extracted from file names and added as a new column. We use the *append()* method which concatenates 2 DataFrames."
   ]
  },
  {
   "cell_type": "code",
   "execution_count": null,
   "metadata": {
    "collapsed": false
   },
   "outputs": [],
   "source": [
    "# load all data in a single DataFrame\n",
    "us = pd.DataFrame()\n",
    "for root, dirs, files in os.walk(path):\n",
    "    for filename in files:\n",
    "        if filename[0:3] != \"yob\":\n",
    "            continue\n",
    "        csv = pd.read_csv(os.path.join(root, filename),\n",
    "                           header=None,\n",
    "                           names=['name', 'gender', 'births'])\n",
    "        year = int(filename[3:7])  # yobYYYY.txt\n",
    "        csv['year'] = year\n",
    "        us = us.append(csv, ignore_index=True)\n",
    "\n",
    "us = us[['year', 'name', 'gender', 'births']]  # fancy indexing in order to reorder the columns\n",
    "\n",
    "us"
   ]
  },
  {
   "cell_type": "code",
   "execution_count": null,
   "metadata": {
    "collapsed": false
   },
   "outputs": [],
   "source": [
    "# characteristics of a DataFrame\n",
    "us.info()"
   ]
  },
  {
   "cell_type": "code",
   "execution_count": null,
   "metadata": {
    "collapsed": false
   },
   "outputs": [],
   "source": [
    "# number of US unique names\n",
    "us['name'].nunique()"
   ]
  },
  {
   "cell_type": "code",
   "execution_count": null,
   "metadata": {
    "collapsed": false
   },
   "outputs": [],
   "source": [
    "# top 10 global US names within a year\n",
    "us.sort_values('births', ascending=False).head(10)"
   ]
  },
  {
   "cell_type": "code",
   "execution_count": null,
   "metadata": {
    "collapsed": false
   },
   "outputs": [],
   "source": [
    "# global US female and male births\n",
    "us.groupby('gender').sum()  # ['births']  # [['births']]"
   ]
  },
  {
   "cell_type": "code",
   "execution_count": null,
   "metadata": {
    "collapsed": false
   },
   "outputs": [],
   "source": [
    "# global US top 10 names all years\n",
    "us.groupby(['name', 'gender']).sum().sort_values('births', ascending=False).head(10)"
   ]
  },
  {
   "cell_type": "markdown",
   "metadata": {
    "collapsed": false
   },
   "source": [
    "### 1.2 Loading French Data\n",
    "\n",
    "Firstly, we load the French data in order to have a look at them."
   ]
  },
  {
   "cell_type": "code",
   "execution_count": null,
   "metadata": {
    "collapsed": false
   },
   "outputs": [],
   "source": [
    "# load \n",
    "fr = pd.read_csv(\"datasets/nat2015.txt\",\n",
    "                     sep='\\t',\n",
    "                     encoding='latin-1',\n",
    "                     header=0,\n",
    "                     names = ['gender', 'name', 'year', 'births'])\n",
    "fr = fr[['year', 'name', 'gender', 'births']]\n",
    "fr"
   ]
  },
  {
   "cell_type": "markdown",
   "metadata": {},
   "source": [
    "Secondly, we reload the French data so that they have the same characteristics as the US ones :\n",
    "- columns :\n",
    "    - gender mapping '1' => 'M', '2' => 'F' and switching to caterogy\n",
    "    - name case including compound names with '-'\n",
    "    - year astype int\n",
    "    - births astype int\n",
    "- eliminate irrelevant data\n",
    "- sort the data\n",
    "- reset the index"
   ]
  },
  {
   "cell_type": "code",
   "execution_count": null,
   "metadata": {
    "collapsed": false
   },
   "outputs": [],
   "source": [
    "# load French data\n",
    "fr = pd.read_csv(\"datasets/nat2015.txt\",\n",
    "                     sep='\\t',\n",
    "                     encoding='latin-1',\n",
    "                     header=0,\n",
    "                     names = ['gender', 'name', 'year', 'births'],\n",
    "                     converters = {'gender': lambda x: 'M' if x == '1' else 'F',\n",
    "                                   'name': lambda x: '-'.join(map(lambda y: y.capitalize(), x.split('-'))),\n",
    "                                   'births': lambda x: int(float(x))})\n",
    "fr = fr[(fr['year'] != 'XXXX') &\n",
    "              (fr['name'] != '_prenoms_rares') &\n",
    "              (fr['name'].str.len() != 1)]\n",
    "fr['year'] = fr['year'].astype(int)\n",
    "fr = fr[['year', 'name', 'gender', 'births']]\n",
    "fr.sort_values(['year', 'gender', 'births', 'name'], ascending=[True, True, False, True], inplace=True)\n",
    "fr.reset_index(drop=True, inplace=True)\n",
    "fr"
   ]
  },
  {
   "cell_type": "code",
   "execution_count": null,
   "metadata": {
    "collapsed": false
   },
   "outputs": [],
   "source": [
    "# characteristics of a DataFrame\n",
    "fr.info()"
   ]
  },
  {
   "cell_type": "code",
   "execution_count": null,
   "metadata": {
    "collapsed": false
   },
   "outputs": [],
   "source": [
    "# top 10 global French names within a year\n",
    "fr.sort_values('births', ascending=False).head(10)"
   ]
  },
  {
   "cell_type": "code",
   "execution_count": null,
   "metadata": {
    "collapsed": false
   },
   "outputs": [],
   "source": [
    "# global French female and male births\n",
    "fr.groupby('gender').sum()[['births']]"
   ]
  },
  {
   "cell_type": "code",
   "execution_count": null,
   "metadata": {
    "collapsed": false,
    "scrolled": true
   },
   "outputs": [],
   "source": [
    "# global French top 10 names all years\n",
    "fr.groupby(['name', 'gender']).sum().sort_values('births', ascending=False).head(10)"
   ]
  },
  {
   "cell_type": "markdown",
   "metadata": {},
   "source": [
    "## 2. Searching in the Data\n",
    "\n",
    "### 2.1 Two letters names\n",
    "\n",
    "We are going to implement a function that looks for names with only 2 letters. We use the *str* operator which tells Python to process series data as strings. Then we use the *[]* operator for a logical selection."
   ]
  },
  {
   "cell_type": "code",
   "execution_count": null,
   "metadata": {
    "collapsed": false
   },
   "outputs": [],
   "source": [
    "# making a boolean mask\n",
    "mask = us['name'].str.len() == 2\n",
    "mask"
   ]
  },
  {
   "cell_type": "code",
   "execution_count": null,
   "metadata": {
    "collapsed": false
   },
   "outputs": [],
   "source": [
    "# using the mask to select data\n",
    "us[mask]"
   ]
  },
  {
   "cell_type": "markdown",
   "metadata": {},
   "source": [
    "We implement a function which perform all necessary operations and run US and French data using the *unique()* method."
   ]
  },
  {
   "cell_type": "code",
   "execution_count": null,
   "metadata": {
    "collapsed": true
   },
   "outputs": [],
   "source": [
    "# searching for names with 2 letters only\n",
    "def names_of_length_2(df):\n",
    "    mask = df['name'].str.len() == 2\n",
    "    return df[mask]['name'].unique()"
   ]
  },
  {
   "cell_type": "code",
   "execution_count": null,
   "metadata": {
    "collapsed": false
   },
   "outputs": [],
   "source": [
    "# US names with 2 letters\n",
    "names_of_length_2(us)"
   ]
  },
  {
   "cell_type": "code",
   "execution_count": null,
   "metadata": {
    "collapsed": false
   },
   "outputs": [],
   "source": [
    "# French names with 2 letters\n",
    "names_of_length_2(fr)"
   ]
  },
  {
   "cell_type": "markdown",
   "metadata": {},
   "source": [
    "### 2.2 Names for which births = year\n",
    "\n",
    "Now, we implement a function which looks for names for which births within a year are equal to the year."
   ]
  },
  {
   "cell_type": "code",
   "execution_count": null,
   "metadata": {
    "collapsed": false
   },
   "outputs": [],
   "source": [
    "# looking for names for wich births within a year are equal to the year\n",
    "def births_is_year(df):\n",
    "    return df[df['births'] == df['year']]"
   ]
  },
  {
   "cell_type": "code",
   "execution_count": null,
   "metadata": {
    "collapsed": false
   },
   "outputs": [],
   "source": [
    "# US names with briths equals year\n",
    "births_is_year(us)"
   ]
  },
  {
   "cell_type": "code",
   "execution_count": null,
   "metadata": {
    "collapsed": false
   },
   "outputs": [],
   "source": [
    "# French names with briths equals year\n",
    "births_is_year(fr)"
   ]
  },
  {
   "cell_type": "markdown",
   "metadata": {},
   "source": [
    "### 2.3 Looking for prefix\n",
    "\n",
    "Here, we implement a function which search for prefix names.\n",
    "\n",
    "First, we select the names starting with a specific prefix using the *str* operator and the *startswith()* method."
   ]
  },
  {
   "cell_type": "code",
   "execution_count": null,
   "metadata": {
    "collapsed": false
   },
   "outputs": [],
   "source": [
    "# select US names starting with 'Fran'\n",
    "selection = us[us['name'].str.startswith(\"Fran\")]\n",
    "selection"
   ]
  },
  {
   "cell_type": "markdown",
   "metadata": {},
   "source": [
    "Second, we group names and gender and sum the births (and the years incidentally)."
   ]
  },
  {
   "cell_type": "code",
   "execution_count": null,
   "metadata": {
    "collapsed": false
   },
   "outputs": [],
   "source": [
    "# compute the sum of births for each pair name + gender\n",
    "sum_selection = selection.groupby(['name', 'gender']).sum()\n",
    "sum_selection"
   ]
  },
  {
   "cell_type": "markdown",
   "metadata": {},
   "source": [
    "Third, we sort by births by decreasing values. We obtain a special DataFrame with a hierarchical index."
   ]
  },
  {
   "cell_type": "code",
   "execution_count": null,
   "metadata": {
    "collapsed": false
   },
   "outputs": [],
   "source": [
    "# sort by births by decreasing values\n",
    "sum_selection.sort_values('births', ascending=False)"
   ]
  },
  {
   "cell_type": "markdown",
   "metadata": {},
   "source": [
    "At last, we put every thing together in a single function."
   ]
  },
  {
   "cell_type": "code",
   "execution_count": null,
   "metadata": {
    "collapsed": true
   },
   "outputs": [],
   "source": [
    "# looking for prefix\n",
    "def look(df, prefix, n=10):\n",
    "    selection = df[df['name'].str.startswith(prefix)]\n",
    "    sum_selection = selection.groupby(['name', 'gender']).sum()\n",
    "    return sum_selection[['births']].sort_values('births', ascending=False).head(n)"
   ]
  },
  {
   "cell_type": "code",
   "execution_count": null,
   "metadata": {
    "collapsed": false
   },
   "outputs": [],
   "source": [
    "# US names startinf with \"Fran\"\n",
    "look(us, \"Fran\")"
   ]
  },
  {
   "cell_type": "code",
   "execution_count": null,
   "metadata": {
    "collapsed": false
   },
   "outputs": [],
   "source": [
    "# French names startinf with \"Fran\"\n",
    "look(fr, \"Fran\")"
   ]
  },
  {
   "cell_type": "markdown",
   "metadata": {},
   "source": [
    "## 3. Putting Data into Graphs\n",
    "\n",
    "### 3.1 Evolution of births for a single name (+ gender) over years\n",
    "\n",
    "First, we select the data according to a name (Kevin) and a gender (M). Logical operators (&, | and ~) are provided for selecting data. "
   ]
  },
  {
   "cell_type": "code",
   "execution_count": null,
   "metadata": {
    "collapsed": false
   },
   "outputs": [],
   "source": [
    "# selection of data related to Kevin (M)\n",
    "selection = us[(us['name'] == \"Kevin\") & (us['gender'] == \"M\")]\n",
    "selection"
   ]
  },
  {
   "cell_type": "markdown",
   "metadata": {},
   "source": [
    "Second, we switch the year column to be the index of the DataFrame."
   ]
  },
  {
   "cell_type": "code",
   "execution_count": null,
   "metadata": {
    "collapsed": false
   },
   "outputs": [],
   "source": [
    "# same with year as index\n",
    "selection_years = selection.set_index('year')\n",
    "selection_years"
   ]
  },
  {
   "cell_type": "markdown",
   "metadata": {},
   "source": [
    "There is a strong connexion between Pandas DataFrame and Matplotlib. We can directly use the Matplotlib *plot()* function which applied to DataFrame or Series as a method."
   ]
  },
  {
   "cell_type": "code",
   "execution_count": null,
   "metadata": {
    "collapsed": false
   },
   "outputs": [],
   "source": [
    "# plot the births column along with the years\n",
    "selection_years.plot(title=\"Births of Kevin (M) over years\");"
   ]
  },
  {
   "cell_type": "markdown",
   "metadata": {},
   "source": [
    "We can put every thing together in a single function and run the French data."
   ]
  },
  {
   "cell_type": "code",
   "execution_count": null,
   "metadata": {
    "collapsed": false
   },
   "outputs": [],
   "source": [
    "# evolution of a name (+ gender)\n",
    "def plot_name_gender(df, name, gender):\n",
    "    selection = df[(df['name'] == name) & (df['gender'] == gender)]\n",
    "    selection_years = selection.set_index('year')\n",
    "    selection_years.plot(title=\"Births of {} ({}) over years\".format(name, gender));"
   ]
  },
  {
   "cell_type": "code",
   "execution_count": null,
   "metadata": {
    "collapsed": false
   },
   "outputs": [],
   "source": [
    "# evolution of French Kevin (M)\n",
    "plot_name_gender(fr, 'Kevin', 'M')"
   ]
  },
  {
   "cell_type": "markdown",
   "metadata": {},
   "source": [
    "We will try to find later correlations between US and French names over time."
   ]
  },
  {
   "cell_type": "markdown",
   "metadata": {},
   "source": [
    "### 3.2 Evolution of births by gender over years\n",
    "\n",
    "DataFrame are provided with another powerful method *pivot_table()*. It produces a new DataFrame with as the index the different values of a first column, as the column index the different values of second column and the values of a third column are summarized into cells by using an aggregative function.\n",
    "\n",
    "We use here this method to obtain the births by gender over years."
   ]
  },
  {
   "cell_type": "code",
   "execution_count": null,
   "metadata": {
    "collapsed": false
   },
   "outputs": [],
   "source": [
    "# pivoting US data by years and gender and computing the sum of births\n",
    "genders = us.pivot_table(index='year',\n",
    "                         columns='gender',\n",
    "                         values='births',\n",
    "                         aggfunc=np.sum)\n",
    "genders"
   ]
  },
  {
   "cell_type": "code",
   "execution_count": null,
   "metadata": {
    "collapsed": false
   },
   "outputs": [],
   "source": [
    "# plot number of births by gender over years\n",
    "genders.plot(title=\"Total births by gender over years\", color=['r', 'b']);"
   ]
  },
  {
   "cell_type": "markdown",
   "metadata": {},
   "source": [
    "We can put every thing together in a single function and run the French data."
   ]
  },
  {
   "cell_type": "code",
   "execution_count": null,
   "metadata": {
    "collapsed": true
   },
   "outputs": [],
   "source": [
    "# plot number of births by gender over years\n",
    "def plot_births(df):\n",
    "    table = df.pivot_table(index='year',\n",
    "                           columns='gender',\n",
    "                           values='births',\n",
    "                           aggfunc=np.sum)\n",
    "    table.plot(title=\"Total births by gender over years\", color=['r', 'b']);"
   ]
  },
  {
   "cell_type": "code",
   "execution_count": null,
   "metadata": {
    "collapsed": false
   },
   "outputs": [],
   "source": [
    "# plot French births by gender over years\n",
    "plot_births(fr)"
   ]
  },
  {
   "cell_type": "markdown",
   "metadata": {},
   "source": [
    "If we want to put all plots in the same graphic, we need first to concatenate the tables by using the Pandas *concat()* function along the appropriate *axis*. We also rename the columns in order to distinguish genders by countries."
   ]
  },
  {
   "cell_type": "code",
   "execution_count": null,
   "metadata": {
    "collapsed": false
   },
   "outputs": [],
   "source": [
    "# plotting all data together\n",
    "us_genders = us.pivot_table(index='year',\n",
    "                            columns='gender',\n",
    "                            values='births',\n",
    "                            aggfunc=np.sum)\n",
    "fr_genders = fr.pivot_table(index='year',\n",
    "                            columns='gender',\n",
    "                            values='births',\n",
    "                            aggfunc=np.sum)\n",
    "genders = pd.concat([us_genders, fr_genders], axis=1)  # concatenate data along the horizontal axis\n",
    "genders.columns = ['US F', 'US M', 'FR F', 'FR M']  # rename columns to distinguish US and French data\n",
    "genders.plot(title=\"Total births by gender over years\", color=['r', 'b', 'm', 'c']);"
   ]
  },
  {
   "cell_type": "markdown",
   "metadata": {},
   "source": [
    "## 4. Measuring the increase in naming diversity\n",
    "\n",
    "We are using the *crosstab()* method in order to compute the number of different names by gender over years."
   ]
  },
  {
   "cell_type": "code",
   "execution_count": null,
   "metadata": {
    "collapsed": false
   },
   "outputs": [],
   "source": [
    "# number of different names by gender over years\n",
    "diversity = pd.crosstab(us['year'], us['gender'])\n",
    "diversity.head()"
   ]
  },
  {
   "cell_type": "code",
   "execution_count": null,
   "metadata": {
    "collapsed": false
   },
   "outputs": [],
   "source": [
    "# nowadays\n",
    "diversity.tail()"
   ]
  },
  {
   "cell_type": "code",
   "execution_count": null,
   "metadata": {
    "collapsed": false
   },
   "outputs": [],
   "source": [
    "# plot\n",
    "diversity.plot(title=\"Evolution of names diversity by gender over years\", color=['r', 'b']);"
   ]
  },
  {
   "cell_type": "markdown",
   "metadata": {},
   "source": [
    "We can put every thing together in a single function."
   ]
  },
  {
   "cell_type": "code",
   "execution_count": null,
   "metadata": {
    "collapsed": true
   },
   "outputs": [],
   "source": [
    "# plot evolution of number of names over years\n",
    "def plot_diversity(df):\n",
    "    diversity = pd.crosstab(df['year'], df['gender'])\n",
    "    diversity.plot(title=\"Evolution of names diversity by gender over years\", color=['r', 'b']);"
   ]
  },
  {
   "cell_type": "code",
   "execution_count": null,
   "metadata": {
    "collapsed": false
   },
   "outputs": [],
   "source": [
    "# French diversity\n",
    "plot_diversity(fr)"
   ]
  },
  {
   "cell_type": "markdown",
   "metadata": {
    "collapsed": true
   },
   "source": [
    "## 5. Evolution of Last Letter\n",
    "\n",
    "We will now add a column with the last letter of each name and compute the evolution of the most frequent last letters which appears nowadays. This is computed by using the *apply()* method and a *lambda* function."
   ]
  },
  {
   "cell_type": "code",
   "execution_count": null,
   "metadata": {
    "collapsed": false
   },
   "outputs": [],
   "source": [
    "# add a column with the last later of names\n",
    "us[\"last\"] = us[\"name\"].apply(lambda x: x[-1].upper())\n",
    "us"
   ]
  },
  {
   "cell_type": "markdown",
   "metadata": {},
   "source": [
    "Then we use the *crosstab()* function in order to get the number of births by last letters over years."
   ]
  },
  {
   "cell_type": "code",
   "execution_count": null,
   "metadata": {
    "collapsed": false
   },
   "outputs": [],
   "source": [
    "# diversity of names by last letter over years\n",
    "last = pd.crosstab(us['year'], us['last'])\n",
    "last"
   ]
  },
  {
   "cell_type": "markdown",
   "metadata": {},
   "source": [
    "Then we select the top 7 letters of the year 2015 (since French data do not have 2016). We use the *.loc[]* operator which enables to select rows, columns and parts of a DataFrame."
   ]
  },
  {
   "cell_type": "code",
   "execution_count": null,
   "metadata": {
    "collapsed": false
   },
   "outputs": [],
   "source": [
    "# 7 most used last letters for US names in 2015\n",
    "last.loc[2015].sort_values(ascending=False).head(7)"
   ]
  },
  {
   "cell_type": "markdown",
   "metadata": {},
   "source": [
    "Here we have the 7 letters in an array."
   ]
  },
  {
   "cell_type": "code",
   "execution_count": null,
   "metadata": {
    "collapsed": false
   },
   "outputs": [],
   "source": [
    "# put the 7 letters in an array\n",
    "letters = last.loc[2015].sort_values(ascending=False).head(7).index.values\n",
    "letters"
   ]
  },
  {
   "cell_type": "markdown",
   "metadata": {},
   "source": [
    "We can perform a fancy indexing on the DataFrame with the 7 letters and perform a plot."
   ]
  },
  {
   "cell_type": "code",
   "execution_count": null,
   "metadata": {
    "collapsed": false
   },
   "outputs": [],
   "source": [
    "# last letters DataFrame limited to 7 top last letters of 2015\n",
    "last[letters]"
   ]
  },
  {
   "cell_type": "code",
   "execution_count": null,
   "metadata": {
    "collapsed": false
   },
   "outputs": [],
   "source": [
    "# plot the evolution of diversity of US names according to their last letter\n",
    "last[letters].plot(title=\"Evolution of diversity of names according to their last letter\");"
   ]
  },
  {
   "cell_type": "markdown",
   "metadata": {},
   "source": [
    "We can put every thing together in a single function and run the French data."
   ]
  },
  {
   "cell_type": "code",
   "execution_count": null,
   "metadata": {
    "collapsed": true
   },
   "outputs": [],
   "source": [
    "# plot the evolution of diversity of names according to their last letter\n",
    "def plot_last_letters(df):\n",
    "    df[\"last\"] = df[\"name\"].apply(lambda x: x[-1].upper())\n",
    "    last = pd.crosstab(df['year'], df['last'])\n",
    "    letters = last.loc[2015].sort_values(ascending=False).head(7).index.values\n",
    "    last[letters].plot(title=\"Evolution of diversity of names according to their last letter\");"
   ]
  },
  {
   "cell_type": "code",
   "execution_count": null,
   "metadata": {
    "collapsed": false
   },
   "outputs": [],
   "source": [
    "# plot the evolution of diversity of US names according to their last letter\n",
    "plot_last_letters(fr)"
   ]
  },
  {
   "cell_type": "code",
   "execution_count": null,
   "metadata": {
    "collapsed": false
   },
   "outputs": [],
   "source": [
    "# plot the number of US and French 2015 births by last letter\n",
    "# 2015 US last letters\n",
    "last_us = pd.crosstab(us['year'], us['last'])\n",
    "letters_us = last_us.loc[2015]\n",
    "# 2015 French last letters\n",
    "last_fr = pd.crosstab(fr['year'], fr['last'])\n",
    "letters_fr = last_fr.loc[2015]\n",
    "# concatenate data and drop NA\n",
    "data = pd.concat([letters_us, letters_fr], axis=1).dropna()\n",
    "data.columns = ['us', 'fr']\n",
    "# scatter plot\n",
    "plt.scatter(data['us'], data['fr'])\n",
    "# annotation with letters\n",
    "for x, y, letter in zip(data['us'], data['fr'], data.index):\n",
    "    plt.text(x + 50, y + 50, letter)\n",
    "plt.axis('equal');"
   ]
  },
  {
   "cell_type": "markdown",
   "metadata": {},
   "source": [
    "## 6. Names which gender changed over time\n",
    "\n",
    "### 6.1 Global gender repartition per name\n",
    "\n",
    "First we restrict names to the top 1000 as F or M over time."
   ]
  },
  {
   "cell_type": "code",
   "execution_count": null,
   "metadata": {
    "collapsed": false
   },
   "outputs": [],
   "source": [
    "# find top 1000 names\n",
    "top1000 = us.groupby('name').sum()['births']\n",
    "top1000 = top1000.sort_values(ascending=False)\n",
    "top1000 = top1000.head(1000)\n",
    "top1000"
   ]
  },
  {
   "cell_type": "markdown",
   "metadata": {},
   "source": [
    "Select those names in the US DataFrame using the *isin()* method."
   ]
  },
  {
   "cell_type": "code",
   "execution_count": null,
   "metadata": {
    "collapsed": false
   },
   "outputs": [],
   "source": [
    "# data for top 1000 names\n",
    "selection = us[us['name'].isin(top1000.index)]\n",
    "selection"
   ]
  },
  {
   "cell_type": "markdown",
   "metadata": {},
   "source": [
    "Secondly, we pivot the data so as to have both genders on each line sorted by names and the values are the sum of births per name and gender. We add a column with the ratio F vs M."
   ]
  },
  {
   "cell_type": "code",
   "execution_count": null,
   "metadata": {
    "collapsed": false
   },
   "outputs": [],
   "source": [
    "# pivot by name and gender with the sum of births\n",
    "ratio_name = selection.pivot_table(index='name',\n",
    "                                     columns='gender',\n",
    "                                     values='births',\n",
    "                                     aggfunc=np.sum)\n",
    "ratio_name[\"ratio\"] = ratio_name[\"F\"] / (ratio_name[\"F\"] + ratio_name[\"M\"])\n",
    "ratio_name"
   ]
  },
  {
   "cell_type": "markdown",
   "metadata": {},
   "source": [
    "We can now plot the distribution of the ratio among names by using the *plot()* function with the option *kind='hist'*. We notice that 90% of names are mostly either female or male, but about 10% of names are possibily ambivalent."
   ]
  },
  {
   "cell_type": "code",
   "execution_count": null,
   "metadata": {
    "collapsed": false
   },
   "outputs": [],
   "source": [
    "# distribution of F vs M ratio for top 1000 US names\n",
    "ratio_name['ratio'].plot(kind='hist');"
   ]
  },
  {
   "cell_type": "markdown",
   "metadata": {},
   "source": [
    "We put everything in a function so that we can process French data."
   ]
  },
  {
   "cell_type": "code",
   "execution_count": null,
   "metadata": {
    "collapsed": true
   },
   "outputs": [],
   "source": [
    "# plot distribution of F vs M ratio for top 1000 names\n",
    "def plot_distribution(df):\n",
    "    top1000 = df.groupby('name').sum()['births']\n",
    "    top1000 = top1000.sort_values(ascending=False).head(1000)\n",
    "    selection = df[df['name'].isin(top1000.index)]\n",
    "    ratio_name = selection.pivot_table(index=['name'],\n",
    "                                         columns='gender',\n",
    "                                         values='births',\n",
    "                                         aggfunc=np.sum)\n",
    "    ratio_name[\"ratio\"] = ratio_name[\"F\"] / (ratio_name[\"F\"] + ratio_name[\"M\"])\n",
    "    ratio_name['ratio'].plot(kind='hist');"
   ]
  },
  {
   "cell_type": "code",
   "execution_count": null,
   "metadata": {
    "collapsed": false
   },
   "outputs": [],
   "source": [
    "# distribution of F vs M ratio for top 1000 French names\n",
    "plot_distribution(fr)"
   ]
  },
  {
   "cell_type": "markdown",
   "metadata": {},
   "source": [
    "### 6.2 Gender repartition per name over time\n",
    "\n",
    "Now, we pivot the data we have selected so as to have both genders on each line sorted by names and years. Here, we don't need any aggregation function since there is only on number per name, year and gender."
   ]
  },
  {
   "cell_type": "code",
   "execution_count": null,
   "metadata": {
    "collapsed": false
   },
   "outputs": [],
   "source": [
    "# pivot by name and year cross gender with the sum of births\n",
    "ratio_name_year = selection.pivot_table(index=['name','year'],\n",
    "                                     columns='gender',\n",
    "                                     values='births')\n",
    "ratio_name_year"
   ]
  },
  {
   "cell_type": "markdown",
   "metadata": {},
   "source": [
    "We can see strange *Nan* values in the table. They stand for *Not a Number* values and appear when some value is lacking. *NaN* is a special *float* introduced by Numpy. Pandas implements some methods to deal with such values (filling, droping).\n",
    "\n",
    "We drop *NaN* values by using the *dropna()* method. Here, it just drop the rows containing a *NaN* and we compute the F vs M ratio per name over years. In fact, in this example, we even don't need to drop *NaN*..."
   ]
  },
  {
   "cell_type": "code",
   "execution_count": null,
   "metadata": {
    "collapsed": false
   },
   "outputs": [],
   "source": [
    "# drop NA values\n",
    "ratio_name_year.dropna(inplace=True)\n",
    "ratio_name_year[\"ratio\"] = ratio_name_year[\"F\"] / (ratio_name_year[\"F\"] + ratio_name_year[\"M\"])\n",
    "ratio_name_year"
   ]
  },
  {
   "cell_type": "markdown",
   "metadata": {},
   "source": [
    "We reset the index so that all data are in a new DataFrame."
   ]
  },
  {
   "cell_type": "code",
   "execution_count": null,
   "metadata": {
    "collapsed": false
   },
   "outputs": [],
   "source": [
    "# reset index\n",
    "ratio_name_year.reset_index(inplace=True)\n",
    "ratio_name_year"
   ]
  },
  {
   "cell_type": "markdown",
   "metadata": {},
   "source": [
    "We can compute variance of the ratio for each name and capture names with higher variance using the *pivot_table()* method and *var()* as the aggregative function."
   ]
  },
  {
   "cell_type": "code",
   "execution_count": null,
   "metadata": {
    "collapsed": false
   },
   "outputs": [],
   "source": [
    "# variance of ratio for each name\n",
    "transnames = ratio_name_year.pivot_table(index='name',\n",
    "                                      values='ratio',\n",
    "                                      aggfunc=np.var)\n",
    "transnames.head(15)"
   ]
  },
  {
   "cell_type": "code",
   "execution_count": null,
   "metadata": {
    "collapsed": false
   },
   "outputs": [],
   "source": [
    "# keep names with higher variance\n",
    "transnames.sort_values(ascending=False).head(15)"
   ]
  },
  {
   "cell_type": "markdown",
   "metadata": {},
   "source": [
    "Put every thing in a function and run also over French data."
   ]
  },
  {
   "cell_type": "code",
   "execution_count": null,
   "metadata": {
    "collapsed": false
   },
   "outputs": [],
   "source": [
    "# find transnames: i.e. names for which ratio F vs M has the higher variance\n",
    "def find_transnames(df):\n",
    "    # top 1000 names\n",
    "    top1000 = df.groupby('name').sum()['births']\n",
    "    top1000 = top1000.sort_values(ascending=False)\n",
    "    top1000 = top1000.head(1000)\n",
    "    \n",
    "    # compute M and F births by name and year\n",
    "    selection = df[df['name'].isin(top1000.index)]\n",
    "    ratio_name_year = selection.pivot_table(index=['name','year'],\n",
    "                                         columns=['gender'],\n",
    "                                         values='births')\n",
    "    # drop NaN\n",
    "    ratio_name_year.dropna(inplace=True)\n",
    "    \n",
    "    # compute F vs M ratio\n",
    "    ratio_name_year[\"ratio\"] = ratio_name_year[\"F\"] / (ratio_name_year[\"F\"] + ratio_name_year[\"M\"])\n",
    "    ratio_name_year.reset_index(inplace=True)\n",
    "    \n",
    "    # compute variance of F vs M ratio\n",
    "    transnames = ratio_name_year.pivot_table(index='name',\n",
    "                                          values='ratio',\n",
    "                                          aggfunc=np.var)\n",
    "    return transnames.sort_values(ascending=False).head(15)"
   ]
  },
  {
   "cell_type": "code",
   "execution_count": null,
   "metadata": {
    "collapsed": false
   },
   "outputs": [],
   "source": [
    "# potential transgenre French names\n",
    "find_transnames(fr)"
   ]
  },
  {
   "cell_type": "markdown",
   "metadata": {},
   "source": [
    "### 6.3 Plot evolution of names which gender changed over years\n",
    "\n",
    "First we select the data related to a single name, for instance *Leslie*."
   ]
  },
  {
   "cell_type": "code",
   "execution_count": null,
   "metadata": {
    "collapsed": false
   },
   "outputs": [],
   "source": [
    "# select US data for Leslie\n",
    "selection = us[us[\"name\"] == \"Leslie\"]\n",
    "selection"
   ]
  },
  {
   "cell_type": "markdown",
   "metadata": {},
   "source": [
    "Then we compute the evolution of births for this name by gender over years. Note that we could have reuse the selection performed above in *ratio_gender*."
   ]
  },
  {
   "cell_type": "code",
   "execution_count": null,
   "metadata": {
    "collapsed": false
   },
   "outputs": [],
   "source": [
    "# evolution of births by gender\n",
    "evolution_gender = selection.pivot_table(index='year',\n",
    "                                         columns='gender',\n",
    "                                         values='births')\n",
    "evolution_gender"
   ]
  },
  {
   "cell_type": "markdown",
   "metadata": {},
   "source": [
    "Then we compute the F and M ratio by dividing the births by the sum of each line (*axis=1*) along the index (*axis=0*)."
   ]
  },
  {
   "cell_type": "code",
   "execution_count": null,
   "metadata": {
    "collapsed": false
   },
   "outputs": [],
   "source": [
    "# gender evolution over years\n",
    "evolution_gender = evolution_gender.div(evolution_gender.sum(axis=1), axis=0)\n",
    "evolution_gender"
   ]
  },
  {
   "cell_type": "markdown",
   "metadata": {},
   "source": [
    "At last, we can plot F and M evolutions over years."
   ]
  },
  {
   "cell_type": "code",
   "execution_count": null,
   "metadata": {
    "collapsed": false
   },
   "outputs": [],
   "source": [
    "# plot gender evolution over years\n",
    "evolution_gender.plot(title=\"Evolution of proportion of Leslie by gender over years\", style={'M': 'b', 'F': 'r'});"
   ]
  },
  {
   "cell_type": "markdown",
   "metadata": {},
   "source": [
    "Put everything in a function and run other US and also French data."
   ]
  },
  {
   "cell_type": "code",
   "execution_count": null,
   "metadata": {
    "collapsed": true
   },
   "outputs": [],
   "source": [
    "# plot gender ratio evolution of years\n",
    "def plot_transname(df, name):\n",
    "    selection = df[df[\"name\"] == name]\n",
    "    gender = selection.pivot_table(index='year',\n",
    "                                   columns='gender',\n",
    "                                   values='births')\n",
    "    gender = gender.div(gender.sum(axis=1), axis=0)\n",
    "    gender.plot(title=\"Evolution proportion of {} by gender over years\".format(name), style={'M': 'b', 'F': 'r'});"
   ]
  },
  {
   "cell_type": "code",
   "execution_count": null,
   "metadata": {
    "collapsed": false
   },
   "outputs": [],
   "source": [
    "# gender evolution of US Donnie\n",
    "plot_transname(us, \"Donnie\")"
   ]
  },
  {
   "cell_type": "code",
   "execution_count": null,
   "metadata": {
    "collapsed": false
   },
   "outputs": [],
   "source": [
    "plot_transname(us, 'Jean')"
   ]
  },
  {
   "cell_type": "code",
   "execution_count": null,
   "metadata": {
    "collapsed": false
   },
   "outputs": [],
   "source": [
    "# gender evolution of French Camille\n",
    "plot_transname(fr, \"Camille\")"
   ]
  },
  {
   "cell_type": "code",
   "execution_count": null,
   "metadata": {
    "collapsed": false
   },
   "outputs": [],
   "source": [
    "# gender evolution of French Dominique\n",
    "plot_transname(fr, \"Dominique\")"
   ]
  },
  {
   "cell_type": "code",
   "execution_count": null,
   "metadata": {
    "collapsed": false
   },
   "outputs": [],
   "source": [
    "# gender evolution of French Alix\n",
    "plot_transname(fr, \"Alix\")"
   ]
  },
  {
   "cell_type": "markdown",
   "metadata": {},
   "source": [
    "## 7. Correlation between US and French names over time\n",
    "\n",
    "Here, we try to compute the correlation between US and French names (+ gender) over time."
   ]
  },
  {
   "cell_type": "code",
   "execution_count": null,
   "metadata": {
    "collapsed": true
   },
   "outputs": [],
   "source": [
    "def correlation(us, fr, name, gender):\n",
    "    # select and pivot US data\n",
    "    us_name = us[(us['name'] == name) & (us['gender'] == gender)]\n",
    "    us_name = us_name.pivot_table(index='year', values='births')\n",
    "    \n",
    "    # select and pivot French data\n",
    "    fr_name = fr[(fr['name'] == name) & (fr['gender'] == gender)]\n",
    "    fr_name = fr_name.pivot_table(index='year', values='births')\n",
    "    \n",
    "    # get the best correlation over 60 years\n",
    "    n = 60\n",
    "    k = int(n / 2) - 1  # 29 when n is 60\n",
    "    results = np.zeros(n)\n",
    "    for i in range(-k, k + 1):\n",
    "        results[i + k] = us_name.corr(fr_name.shift(-i))  # French data are shifted negatively\n",
    "    best = results.argmax()\n",
    "    print(\"Correlation over {} years : {:.2f}\".format(best - k, results[best]))\n",
    "    \n",
    "    # concatenate and plot data\n",
    "    data = pd.concat([us_name, fr_name], axis=1)\n",
    "    data.columns=['us', 'fr']\n",
    "    data.plot(title=\"Correlation between US and French {} ({}) over years\".format(name, gender), color=['r', 'b'])"
   ]
  },
  {
   "cell_type": "code",
   "execution_count": null,
   "metadata": {
    "collapsed": false
   },
   "outputs": [],
   "source": [
    "correlation(us, fr, \"Alex\", \"M\")"
   ]
  },
  {
   "cell_type": "code",
   "execution_count": null,
   "metadata": {
    "collapsed": false
   },
   "outputs": [],
   "source": [
    "correlation(us, fr, \"Marc\", \"M\")"
   ]
  },
  {
   "cell_type": "code",
   "execution_count": null,
   "metadata": {
    "collapsed": false
   },
   "outputs": [],
   "source": [
    "correlation(us, fr, \"Cindy\", \"F\")"
   ]
  },
  {
   "cell_type": "markdown",
   "metadata": {},
   "source": [
    "## 8. Summary\n",
    "\n",
    "In this session, we have used some of the Python Data Analysis Ecosystem features.\n",
    "\n",
    "Links refer to the pandas documentation. Most of the functions and methods we have used provide a number of possible arguments.\n",
    "\n",
    "**Data representation**\n",
    "- <a href=\"https://pandas.pydata.org/pandas-docs/stable/api.html#series\">Series</a>: 1D\n",
    "- <a href=\"https://pandas.pydata.org/pandas-docs/stable/api.html#dataframe\">DataFrame</a>: 2D\n",
    "\n",
    "**Loading data** with <a href=\"https://pandas.pydata.org/pandas-docs/stable/generated/pandas.read_csv.html\">*read_csv()*</a>\n",
    "- header\n",
    "- names\n",
    "- sep\n",
    "- encoding\n",
    "- converters\n",
    "\n",
    "**Getting information**\n",
    "- *index*: Series and DataFrame index\n",
    "- *columns*: DataFrame column\n",
    "- *shape*: Series and DataFrame dimensions\n",
    "- *info()*: DataFrame informations\n",
    "- *values*: Index and Series values\n",
    "- *unique()*: Series unique values\n",
    "- *nunique()*: Series number of unique values\n",
    "\n",
    "**Selecting data**\n",
    "- Column accessing\n",
    "- Row accessing\n",
    "- Fancy indexing\n",
    "- Logical masking\n",
    "- Head and tail\n",
    "\n",
    "**Indexing and merging data**\n",
    "- <a href=\"https://pandas.pydata.org/pandas-docs/stable/generated/pandas.DataFrame.set_index.html\">*set_index()*</a> and <a href=\"https://pandas.pydata.org/pandas-docs/stable/generated/pandas.DataFrame.reset_index.html\">*reset_index()*</a>\n",
    "- <a href=\"https://pandas.pydata.org/pandas-docs/stable/generated/pandas.DataFrame.append.html\">*append()*</a> and <a href=\"https://pandas.pydata.org/pandas-docs/stable/generated/pandas.concat.html\">*concat()*</a>\n",
    "\n",
    "**Computing over data**\n",
    "- *sum()* and *var()*\n",
    "- *div()*\n",
    "- *argmax()*\n",
    "- *str.len()* and *str.startswith()*\n",
    "- <a href=\"https://pandas.pydata.org/pandas-docs/stable/generated/pandas.DataFrame.apply.html\">*apply()*</a> and *lambda*\n",
    "- *isin()*\n",
    "- *astype()*\n",
    "- *corr()*\n",
    "\n",
    "**Organizing data**\n",
    "- *transpose()* or *T*\n",
    "- <a href=\"https://pandas.pydata.org/pandas-docs/stable/generated/pandas.DataFrame.sort_values.html\">*sort_values()*</a>\n",
    "- <a href=\"https://pandas.pydata.org/pandas-docs/stable/generated/pandas.DataFrame.groupby.html\">*groupby()*</a>\n",
    "- <a href=\"https://pandas.pydata.org/pandas-docs/stable/generated/pandas.DataFrame.pivot_table.html\">*pivot_table()*</a> and <a href=\"https://pandas.pydata.org/pandas-docs/stable/generated/pandas.crosstab.html\">*crosstab()*</a>\n",
    "- *shift()*\n",
    "\n",
    "**Dealing with NaN**\n",
    "- <a href=\"https://pandas.pydata.org/pandas-docs/stable/generated/pandas.DataFrame.dropna.html\">*dropna()*</a>\n",
    "\n",
    "**Displaying data**\n",
    "- <a href=\"https://pandas.pydata.org/pandas-docs/stable/generated/pandas.DataFrame.plot.html\">*plot()*</a>"
   ]
  },
  {
   "cell_type": "code",
   "execution_count": null,
   "metadata": {
    "collapsed": true
   },
   "outputs": [],
   "source": []
  }
 ],
 "metadata": {
  "anaconda-cloud": {},
  "kernelspec": {
   "display_name": "Python [default]",
   "language": "python",
   "name": "python3"
  },
  "language_info": {
   "codemirror_mode": {
    "name": "ipython",
    "version": 3
   },
   "file_extension": ".py",
   "mimetype": "text/x-python",
   "name": "python",
   "nbconvert_exporter": "python",
   "pygments_lexer": "ipython3",
   "version": "3.5.2"
  }
 },
 "nbformat": 4,
 "nbformat_minor": 0
}
